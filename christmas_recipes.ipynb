{
 "cells": [
  {
   "attachments": {},
   "cell_type": "markdown",
   "metadata": {},
   "source": [
    "# Christmas recipes EDA\n",
    "Data sourced from: [BBC Good Food](https://www.bbcgoodfood.com/) \n",
    "\n",
    "I ported from R to Python some ideas using examples from [This Kaggle Notebook. Thank you JONATHAN BOUCHET!](https://www.kaggle.com/code/jonathanbouchet/hmm-yummy) <br> <br>\n",
    "\n",
    "\n",
    "***\n",
    "![](banner.png )\n",
    "***"
   ]
  },
  {
   "attachments": {},
   "cell_type": "markdown",
   "metadata": {},
   "source": [
    "Import necessary packages and read the json file"
   ]
  },
  {
   "cell_type": "code",
   "execution_count": 88,
   "metadata": {},
   "outputs": [
    {
     "data": {
      "text/html": [
       "<div>\n",
       "<style scoped>\n",
       "    .dataframe tbody tr th:only-of-type {\n",
       "        vertical-align: middle;\n",
       "    }\n",
       "\n",
       "    .dataframe tbody tr th {\n",
       "        vertical-align: top;\n",
       "    }\n",
       "\n",
       "    .dataframe thead th {\n",
       "        text-align: right;\n",
       "    }\n",
       "</style>\n",
       "<table border=\"1\" class=\"dataframe\">\n",
       "  <thead>\n",
       "    <tr style=\"text-align: right;\">\n",
       "      <th></th>\n",
       "      <th>Name</th>\n",
       "      <th>url</th>\n",
       "      <th>Description</th>\n",
       "      <th>Author</th>\n",
       "      <th>Ingredients</th>\n",
       "      <th>Method</th>\n",
       "    </tr>\n",
       "  </thead>\n",
       "  <tbody>\n",
       "    <tr>\n",
       "      <th>0</th>\n",
       "      <td>Christmas pie</td>\n",
       "      <td>https://www.bbcgoodfood.com/recipes/2793/chris...</td>\n",
       "      <td>Combine a few key Christmas flavours here to m...</td>\n",
       "      <td>Mary Cadogan</td>\n",
       "      <td>[2 tbsp olive oil, knob butter, 1 onion, finel...</td>\n",
       "      <td>[Heat oven to 190C/fan 170C/gas 5. Heat 1 tbsp...</td>\n",
       "    </tr>\n",
       "    <tr>\n",
       "      <th>1</th>\n",
       "      <td>Simmer-&amp;-stir Christmas cake</td>\n",
       "      <td>https://www.bbcgoodfood.com/recipes/1160/simme...</td>\n",
       "      <td>An easy-to-make alternative to traditional Chr...</td>\n",
       "      <td>Mary Cadogan</td>\n",
       "      <td>[175g butter, chopped, 200g dark muscovado sug...</td>\n",
       "      <td>[Put the butter, sugar, fruit, zests, juice an...</td>\n",
       "    </tr>\n",
       "    <tr>\n",
       "      <th>2</th>\n",
       "      <td>Christmas cupcakes</td>\n",
       "      <td>https://www.bbcgoodfood.com/recipes/72622/chri...</td>\n",
       "      <td>These beautiful and classy little cakes make l...</td>\n",
       "      <td>Sara Buenfeld</td>\n",
       "      <td>[200g dark muscovado sugar, 175g butter, chopp...</td>\n",
       "      <td>[Tip the sugar, butter, dried fruit, whole che...</td>\n",
       "    </tr>\n",
       "    <tr>\n",
       "      <th>3</th>\n",
       "      <td>Christmas buns</td>\n",
       "      <td>https://www.bbcgoodfood.com/recipes/1803633/ch...</td>\n",
       "      <td>Paul Hollywood's fruit rolls can be made ahead...</td>\n",
       "      <td>Paul Hollywood</td>\n",
       "      <td>[500g strong white flour, plus extra for dusti...</td>\n",
       "      <td>[Put the flour and 1 tsp salt into a large bow...</td>\n",
       "    </tr>\n",
       "    <tr>\n",
       "      <th>4</th>\n",
       "      <td>Christmas cupcakes</td>\n",
       "      <td>https://www.bbcgoodfood.com/recipes/981634/chr...</td>\n",
       "      <td>Made these for the second time today, and I ha...</td>\n",
       "      <td>Barney Desmazery</td>\n",
       "      <td>[280g self-raising flour, 175g golden caster s...</td>\n",
       "      <td>[Heat oven to 190C/170 fan/gas 5 and line a 12...</td>\n",
       "    </tr>\n",
       "  </tbody>\n",
       "</table>\n",
       "</div>"
      ],
      "text/plain": [
       "                           Name  \\\n",
       "0                 Christmas pie   \n",
       "1  Simmer-&-stir Christmas cake   \n",
       "2            Christmas cupcakes   \n",
       "3                Christmas buns   \n",
       "4            Christmas cupcakes   \n",
       "\n",
       "                                                 url  \\\n",
       "0  https://www.bbcgoodfood.com/recipes/2793/chris...   \n",
       "1  https://www.bbcgoodfood.com/recipes/1160/simme...   \n",
       "2  https://www.bbcgoodfood.com/recipes/72622/chri...   \n",
       "3  https://www.bbcgoodfood.com/recipes/1803633/ch...   \n",
       "4  https://www.bbcgoodfood.com/recipes/981634/chr...   \n",
       "\n",
       "                                         Description            Author  \\\n",
       "0  Combine a few key Christmas flavours here to m...      Mary Cadogan   \n",
       "1  An easy-to-make alternative to traditional Chr...      Mary Cadogan   \n",
       "2  These beautiful and classy little cakes make l...     Sara Buenfeld   \n",
       "3  Paul Hollywood's fruit rolls can be made ahead...    Paul Hollywood   \n",
       "4  Made these for the second time today, and I ha...  Barney Desmazery   \n",
       "\n",
       "                                         Ingredients  \\\n",
       "0  [2 tbsp olive oil, knob butter, 1 onion, finel...   \n",
       "1  [175g butter, chopped, 200g dark muscovado sug...   \n",
       "2  [200g dark muscovado sugar, 175g butter, chopp...   \n",
       "3  [500g strong white flour, plus extra for dusti...   \n",
       "4  [280g self-raising flour, 175g golden caster s...   \n",
       "\n",
       "                                              Method  \n",
       "0  [Heat oven to 190C/fan 170C/gas 5. Heat 1 tbsp...  \n",
       "1  [Put the butter, sugar, fruit, zests, juice an...  \n",
       "2  [Tip the sugar, butter, dried fruit, whole che...  \n",
       "3  [Put the flour and 1 tsp salt into a large bow...  \n",
       "4  [Heat oven to 190C/170 fan/gas 5 and line a 12...  "
      ]
     },
     "execution_count": 88,
     "metadata": {},
     "output_type": "execute_result"
    }
   ],
   "source": [
    "import pandas as pd\n",
    "from matplotlib import pyplot\n",
    "import seaborn as sns\n",
    "\n",
    "\n",
    "recipes = pd.read_json(\"data/recipes.json.zip\", lines=True)\n",
    "recipes.head()"
   ]
  },
  {
   "attachments": {},
   "cell_type": "markdown",
   "metadata": {},
   "source": [
    "Let's get some info about the dataframe"
   ]
  },
  {
   "cell_type": "code",
   "execution_count": 89,
   "metadata": {},
   "outputs": [
    {
     "name": "stdout",
     "output_type": "stream",
     "text": [
      "<class 'pandas.core.frame.DataFrame'>\n",
      "RangeIndex: 1617 entries, 0 to 1616\n",
      "Data columns (total 6 columns):\n",
      " #   Column       Non-Null Count  Dtype \n",
      "---  ------       --------------  ----- \n",
      " 0   Name         1617 non-null   object\n",
      " 1   url          1617 non-null   object\n",
      " 2   Description  1429 non-null   object\n",
      " 3   Author       1611 non-null   object\n",
      " 4   Ingredients  1617 non-null   object\n",
      " 5   Method       1617 non-null   object\n",
      "dtypes: object(6)\n",
      "memory usage: 75.9+ KB\n"
     ]
    }
   ],
   "source": [
    "recipes.info()"
   ]
  },
  {
   "attachments": {},
   "cell_type": "markdown",
   "metadata": {},
   "source": [
    "The dataframe has 6 columns and 1617 entries. Each recipe has a number of ingredients and a method with a number of instructions. Let's check the type of the elements in columns 'Ingredients' and 'Method'"
   ]
  },
  {
   "cell_type": "code",
   "execution_count": 90,
   "metadata": {},
   "outputs": [
    {
     "name": "stdout",
     "output_type": "stream",
     "text": [
      "The type of Ingredients is:  <class 'list'>\n",
      "The type of Method is:  <class 'list'>\n"
     ]
    }
   ],
   "source": [
    "print(\"The type of Ingredients is: \", type(recipes['Ingredients'][0]))\n",
    "print(\"The type of Method is: \", type(recipes['Method'][0]))"
   ]
  },
  {
   "attachments": {},
   "cell_type": "markdown",
   "metadata": {},
   "source": [
    "So there is a good chance we can add additional numerical data to dataframe like **number of ingredients** and **number of steps** in the instructions for each recipe. Let's try it"
   ]
  },
  {
   "cell_type": "code",
   "execution_count": 91,
   "metadata": {},
   "outputs": [
    {
     "data": {
      "text/html": [
       "<div>\n",
       "<style scoped>\n",
       "    .dataframe tbody tr th:only-of-type {\n",
       "        vertical-align: middle;\n",
       "    }\n",
       "\n",
       "    .dataframe tbody tr th {\n",
       "        vertical-align: top;\n",
       "    }\n",
       "\n",
       "    .dataframe thead th {\n",
       "        text-align: right;\n",
       "    }\n",
       "</style>\n",
       "<table border=\"1\" class=\"dataframe\">\n",
       "  <thead>\n",
       "    <tr style=\"text-align: right;\">\n",
       "      <th></th>\n",
       "      <th>Name</th>\n",
       "      <th>url</th>\n",
       "      <th>Description</th>\n",
       "      <th>Author</th>\n",
       "      <th>Ingredients</th>\n",
       "      <th>Method</th>\n",
       "      <th>num_ingredients</th>\n",
       "      <th>num_instructions</th>\n",
       "    </tr>\n",
       "  </thead>\n",
       "  <tbody>\n",
       "    <tr>\n",
       "      <th>0</th>\n",
       "      <td>Christmas pie</td>\n",
       "      <td>https://www.bbcgoodfood.com/recipes/2793/chris...</td>\n",
       "      <td>Combine a few key Christmas flavours here to m...</td>\n",
       "      <td>Mary Cadogan</td>\n",
       "      <td>[2 tbsp olive oil, knob butter, 1 onion, finel...</td>\n",
       "      <td>[Heat oven to 190C/fan 170C/gas 5. Heat 1 tbsp...</td>\n",
       "      <td>13</td>\n",
       "      <td>5</td>\n",
       "    </tr>\n",
       "    <tr>\n",
       "      <th>1</th>\n",
       "      <td>Simmer-&amp;-stir Christmas cake</td>\n",
       "      <td>https://www.bbcgoodfood.com/recipes/1160/simme...</td>\n",
       "      <td>An easy-to-make alternative to traditional Chr...</td>\n",
       "      <td>Mary Cadogan</td>\n",
       "      <td>[175g butter, chopped, 200g dark muscovado sug...</td>\n",
       "      <td>[Put the butter, sugar, fruit, zests, juice an...</td>\n",
       "      <td>14</td>\n",
       "      <td>6</td>\n",
       "    </tr>\n",
       "    <tr>\n",
       "      <th>2</th>\n",
       "      <td>Christmas cupcakes</td>\n",
       "      <td>https://www.bbcgoodfood.com/recipes/72622/chri...</td>\n",
       "      <td>These beautiful and classy little cakes make l...</td>\n",
       "      <td>Sara Buenfeld</td>\n",
       "      <td>[200g dark muscovado sugar, 175g butter, chopp...</td>\n",
       "      <td>[Tip the sugar, butter, dried fruit, whole che...</td>\n",
       "      <td>21</td>\n",
       "      <td>5</td>\n",
       "    </tr>\n",
       "    <tr>\n",
       "      <th>3</th>\n",
       "      <td>Christmas buns</td>\n",
       "      <td>https://www.bbcgoodfood.com/recipes/1803633/ch...</td>\n",
       "      <td>Paul Hollywood's fruit rolls can be made ahead...</td>\n",
       "      <td>Paul Hollywood</td>\n",
       "      <td>[500g strong white flour, plus extra for dusti...</td>\n",
       "      <td>[Put the flour and 1 tsp salt into a large bow...</td>\n",
       "      <td>14</td>\n",
       "      <td>7</td>\n",
       "    </tr>\n",
       "    <tr>\n",
       "      <th>4</th>\n",
       "      <td>Christmas cupcakes</td>\n",
       "      <td>https://www.bbcgoodfood.com/recipes/981634/chr...</td>\n",
       "      <td>Made these for the second time today, and I ha...</td>\n",
       "      <td>Barney Desmazery</td>\n",
       "      <td>[280g self-raising flour, 175g golden caster s...</td>\n",
       "      <td>[Heat oven to 190C/170 fan/gas 5 and line a 12...</td>\n",
       "      <td>11</td>\n",
       "      <td>2</td>\n",
       "    </tr>\n",
       "  </tbody>\n",
       "</table>\n",
       "</div>"
      ],
      "text/plain": [
       "                           Name  \\\n",
       "0                 Christmas pie   \n",
       "1  Simmer-&-stir Christmas cake   \n",
       "2            Christmas cupcakes   \n",
       "3                Christmas buns   \n",
       "4            Christmas cupcakes   \n",
       "\n",
       "                                                 url  \\\n",
       "0  https://www.bbcgoodfood.com/recipes/2793/chris...   \n",
       "1  https://www.bbcgoodfood.com/recipes/1160/simme...   \n",
       "2  https://www.bbcgoodfood.com/recipes/72622/chri...   \n",
       "3  https://www.bbcgoodfood.com/recipes/1803633/ch...   \n",
       "4  https://www.bbcgoodfood.com/recipes/981634/chr...   \n",
       "\n",
       "                                         Description            Author  \\\n",
       "0  Combine a few key Christmas flavours here to m...      Mary Cadogan   \n",
       "1  An easy-to-make alternative to traditional Chr...      Mary Cadogan   \n",
       "2  These beautiful and classy little cakes make l...     Sara Buenfeld   \n",
       "3  Paul Hollywood's fruit rolls can be made ahead...    Paul Hollywood   \n",
       "4  Made these for the second time today, and I ha...  Barney Desmazery   \n",
       "\n",
       "                                         Ingredients  \\\n",
       "0  [2 tbsp olive oil, knob butter, 1 onion, finel...   \n",
       "1  [175g butter, chopped, 200g dark muscovado sug...   \n",
       "2  [200g dark muscovado sugar, 175g butter, chopp...   \n",
       "3  [500g strong white flour, plus extra for dusti...   \n",
       "4  [280g self-raising flour, 175g golden caster s...   \n",
       "\n",
       "                                              Method  num_ingredients  \\\n",
       "0  [Heat oven to 190C/fan 170C/gas 5. Heat 1 tbsp...               13   \n",
       "1  [Put the butter, sugar, fruit, zests, juice an...               14   \n",
       "2  [Tip the sugar, butter, dried fruit, whole che...               21   \n",
       "3  [Put the flour and 1 tsp salt into a large bow...               14   \n",
       "4  [Heat oven to 190C/170 fan/gas 5 and line a 12...               11   \n",
       "\n",
       "   num_instructions  \n",
       "0                 5  \n",
       "1                 6  \n",
       "2                 5  \n",
       "3                 7  \n",
       "4                 2  "
      ]
     },
     "execution_count": 91,
     "metadata": {},
     "output_type": "execute_result"
    }
   ],
   "source": [
    "recipes[\"num_ingredients\"] = recipes['Ingredients'].map(len)\n",
    "recipes[\"num_instructions\"] = recipes['Method'].map(len)\n",
    "recipes.head()"
   ]
  },
  {
   "attachments": {},
   "cell_type": "markdown",
   "metadata": {},
   "source": [
    "OK! Now we have additional numerical data. We can already start exploring and question some ideas. For example is there a correlation between  **num_gredients** and **num_instructions**. A good scatter plot can help visualise this relationship. Intuitively the answer is yes. More ingredients, more instructions. But let's see."
   ]
  },
  {
   "cell_type": "code",
   "execution_count": 92,
   "metadata": {},
   "outputs": [
    {
     "data": {
      "image/png": "[encoded data removed]",
      "text/plain": [
       "<Figure size 1070x727 with 1 Axes>"
      ]
     },
     "metadata": {},
     "output_type": "display_data"
    }
   ],
   "source": [
    "# Let's see if there's collinearity between number of ingredients and the number of instructions. Obviously there will be.\n",
    "fig, ax = pyplot.subplots(figsize=(10.7, 7.27))\n",
    "plot = sns.regplot(ax=ax, data=recipes, x='num_ingredients', y='num_instructions', x_jitter = 0.7, y_jitter = 0.7)\n",
    "plot.set(title='Number of ingredients vs number of instructions', xlabel='Ingredients', ylabel='Instructions');\n",
    "\n",
    "# Label recipes where the number of ingredients is >= 30 aor the number of instructions is >= 20. Sort of spotting outliers if there's any\n",
    "outliers = recipes[(recipes['num_ingredients'] >= 30) | (recipes['num_instructions'] >= 20)][['Name', 'num_ingredients', 'num_instructions']]\n",
    "for index, row in outliers.iterrows():\n",
    "    plot.text(row['num_ingredients'], row['num_instructions'], row['Name'])\n"
   ]
  },
  {
   "attachments": {},
   "cell_type": "markdown",
   "metadata": {},
   "source": [
    "Hmmm **Beef Wellington** has over 40 instructions but less than 10 ingredients. In contrast, **Enchanted forest Christmas cake** has over 35 ingredients but just above 10 instructions. Also the graph clearly shows a positive correlation between the number of instructions and the number of ingredients as expected. <br><br>\n",
    "OK. So far it is good set of data. There's much more we can do and explore. But what if we can get more information and how? Can we get nutrient quantities for each recipe? In source folder, I created a script that allowed me to scrap all the information about nutrients for each recipe. We have the links for each recipe. So let's scrap that extra info and save all in csv format the read the new data.\n"
   ]
  },
  {
   "cell_type": "code",
   "execution_count": 93,
   "metadata": {},
   "outputs": [
    {
     "data": {
      "text/html": [
       "<div>\n",
       "<style scoped>\n",
       "    .dataframe tbody tr th:only-of-type {\n",
       "        vertical-align: middle;\n",
       "    }\n",
       "\n",
       "    .dataframe tbody tr th {\n",
       "        vertical-align: top;\n",
       "    }\n",
       "\n",
       "    .dataframe thead th {\n",
       "        text-align: right;\n",
       "    }\n",
       "</style>\n",
       "<table border=\"1\" class=\"dataframe\">\n",
       "  <thead>\n",
       "    <tr style=\"text-align: right;\">\n",
       "      <th></th>\n",
       "      <th>Name</th>\n",
       "      <th>url</th>\n",
       "      <th>Description</th>\n",
       "      <th>Author</th>\n",
       "      <th>Ingredients</th>\n",
       "      <th>Method</th>\n",
       "      <th>num_ingredients</th>\n",
       "      <th>num_instructions</th>\n",
       "      <th>kcal</th>\n",
       "      <th>fat(g)</th>\n",
       "      <th>saturates(g)</th>\n",
       "      <th>carbs(g)</th>\n",
       "      <th>sugars(g)</th>\n",
       "      <th>fibre(g)</th>\n",
       "      <th>protein(g)</th>\n",
       "      <th>salt(g)</th>\n",
       "    </tr>\n",
       "  </thead>\n",
       "  <tbody>\n",
       "    <tr>\n",
       "      <th>0</th>\n",
       "      <td>Christmas pie</td>\n",
       "      <td>https://www.bbcgoodfood.com/recipes/2793/chris...</td>\n",
       "      <td>Combine a few key Christmas flavours here to m...</td>\n",
       "      <td>Mary Cadogan</td>\n",
       "      <td>[2 tbsp olive oil, knob butter, 1 onion, finel...</td>\n",
       "      <td>[Heat oven to 190C/fan 170C/gas 5. Heat 1 tbsp...</td>\n",
       "      <td>13</td>\n",
       "      <td>5</td>\n",
       "      <td>454.0</td>\n",
       "      <td>28.0</td>\n",
       "      <td>10.0</td>\n",
       "      <td>29.0</td>\n",
       "      <td>6.0</td>\n",
       "      <td>4.0</td>\n",
       "      <td>19.0</td>\n",
       "      <td>0.90</td>\n",
       "    </tr>\n",
       "    <tr>\n",
       "      <th>1</th>\n",
       "      <td>Simmer-&amp;-stir Christmas cake</td>\n",
       "      <td>https://www.bbcgoodfood.com/recipes/1160/simme...</td>\n",
       "      <td>An easy-to-make alternative to traditional Chr...</td>\n",
       "      <td>Mary Cadogan</td>\n",
       "      <td>[175g butter, chopped, 200g dark muscovado sug...</td>\n",
       "      <td>[Put the butter, sugar, fruit, zests, juice an...</td>\n",
       "      <td>14</td>\n",
       "      <td>6</td>\n",
       "      <td>NaN</td>\n",
       "      <td>NaN</td>\n",
       "      <td>NaN</td>\n",
       "      <td>NaN</td>\n",
       "      <td>NaN</td>\n",
       "      <td>NaN</td>\n",
       "      <td>NaN</td>\n",
       "      <td>NaN</td>\n",
       "    </tr>\n",
       "    <tr>\n",
       "      <th>2</th>\n",
       "      <td>Christmas cupcakes</td>\n",
       "      <td>https://www.bbcgoodfood.com/recipes/72622/chri...</td>\n",
       "      <td>These beautiful and classy little cakes make l...</td>\n",
       "      <td>Sara Buenfeld</td>\n",
       "      <td>[200g dark muscovado sugar, 175g butter, chopp...</td>\n",
       "      <td>[Tip the sugar, butter, dried fruit, whole che...</td>\n",
       "      <td>21</td>\n",
       "      <td>5</td>\n",
       "      <td>833.0</td>\n",
       "      <td>29.0</td>\n",
       "      <td>9.0</td>\n",
       "      <td>139.0</td>\n",
       "      <td>125.0</td>\n",
       "      <td>3.0</td>\n",
       "      <td>9.0</td>\n",
       "      <td>0.44</td>\n",
       "    </tr>\n",
       "    <tr>\n",
       "      <th>3</th>\n",
       "      <td>Christmas buns</td>\n",
       "      <td>https://www.bbcgoodfood.com/recipes/1803633/ch...</td>\n",
       "      <td>Paul Hollywood's fruit rolls can be made ahead...</td>\n",
       "      <td>Paul Hollywood</td>\n",
       "      <td>[500g strong white flour, plus extra for dusti...</td>\n",
       "      <td>[Put the flour and 1 tsp salt into a large bow...</td>\n",
       "      <td>14</td>\n",
       "      <td>7</td>\n",
       "      <td>455.0</td>\n",
       "      <td>9.0</td>\n",
       "      <td>5.0</td>\n",
       "      <td>89.0</td>\n",
       "      <td>47.0</td>\n",
       "      <td>3.0</td>\n",
       "      <td>9.0</td>\n",
       "      <td>0.65</td>\n",
       "    </tr>\n",
       "    <tr>\n",
       "      <th>4</th>\n",
       "      <td>Christmas cupcakes</td>\n",
       "      <td>https://www.bbcgoodfood.com/recipes/981634/chr...</td>\n",
       "      <td>Made these for the second time today, and I ha...</td>\n",
       "      <td>Barney Desmazery</td>\n",
       "      <td>[280g self-raising flour, 175g golden caster s...</td>\n",
       "      <td>[Heat oven to 190C/170 fan/gas 5 and line a 12...</td>\n",
       "      <td>11</td>\n",
       "      <td>2</td>\n",
       "      <td>NaN</td>\n",
       "      <td>NaN</td>\n",
       "      <td>NaN</td>\n",
       "      <td>NaN</td>\n",
       "      <td>NaN</td>\n",
       "      <td>NaN</td>\n",
       "      <td>NaN</td>\n",
       "      <td>NaN</td>\n",
       "    </tr>\n",
       "  </tbody>\n",
       "</table>\n",
       "</div>"
      ],
      "text/plain": [
       "                           Name  \\\n",
       "0                 Christmas pie   \n",
       "1  Simmer-&-stir Christmas cake   \n",
       "2            Christmas cupcakes   \n",
       "3                Christmas buns   \n",
       "4            Christmas cupcakes   \n",
       "\n",
       "                                                 url  \\\n",
       "0  https://www.bbcgoodfood.com/recipes/2793/chris...   \n",
       "1  https://www.bbcgoodfood.com/recipes/1160/simme...   \n",
       "2  https://www.bbcgoodfood.com/recipes/72622/chri...   \n",
       "3  https://www.bbcgoodfood.com/recipes/1803633/ch...   \n",
       "4  https://www.bbcgoodfood.com/recipes/981634/chr...   \n",
       "\n",
       "                                         Description            Author  \\\n",
       "0  Combine a few key Christmas flavours here to m...      Mary Cadogan   \n",
       "1  An easy-to-make alternative to traditional Chr...      Mary Cadogan   \n",
       "2  These beautiful and classy little cakes make l...     Sara Buenfeld   \n",
       "3  Paul Hollywood's fruit rolls can be made ahead...    Paul Hollywood   \n",
       "4  Made these for the second time today, and I ha...  Barney Desmazery   \n",
       "\n",
       "                                         Ingredients  \\\n",
       "0  [2 tbsp olive oil, knob butter, 1 onion, finel...   \n",
       "1  [175g butter, chopped, 200g dark muscovado sug...   \n",
       "2  [200g dark muscovado sugar, 175g butter, chopp...   \n",
       "3  [500g strong white flour, plus extra for dusti...   \n",
       "4  [280g self-raising flour, 175g golden caster s...   \n",
       "\n",
       "                                              Method  num_ingredients  \\\n",
       "0  [Heat oven to 190C/fan 170C/gas 5. Heat 1 tbsp...               13   \n",
       "1  [Put the butter, sugar, fruit, zests, juice an...               14   \n",
       "2  [Tip the sugar, butter, dried fruit, whole che...               21   \n",
       "3  [Put the flour and 1 tsp salt into a large bow...               14   \n",
       "4  [Heat oven to 190C/170 fan/gas 5 and line a 12...               11   \n",
       "\n",
       "   num_instructions   kcal  fat(g)  saturates(g)  carbs(g)  sugars(g)  \\\n",
       "0                 5  454.0    28.0          10.0      29.0        6.0   \n",
       "1                 6    NaN     NaN           NaN       NaN        NaN   \n",
       "2                 5  833.0    29.0           9.0     139.0      125.0   \n",
       "3                 7  455.0     9.0           5.0      89.0       47.0   \n",
       "4                 2    NaN     NaN           NaN       NaN        NaN   \n",
       "\n",
       "   fibre(g)  protein(g)  salt(g)  \n",
       "0       4.0        19.0     0.90  \n",
       "1       NaN         NaN      NaN  \n",
       "2       3.0         9.0     0.44  \n",
       "3       3.0         9.0     0.65  \n",
       "4       NaN         NaN      NaN  "
      ]
     },
     "execution_count": 93,
     "metadata": {},
     "output_type": "execute_result"
    }
   ],
   "source": [
    "import ast\n",
    "recipes = pd.read_csv(\"data/recipes.csv\")\n",
    "# A problem emerged when saving the new data as csv, the ingredients and method are saved as list literals. SO to get them back as list we need to re-evalute them as lists.\n",
    "recipes['Ingredients'] = recipes['Ingredients'].apply(lambda s: list(ast.literal_eval(s)))\n",
    "recipes['Method'] = recipes['Method'].apply(lambda s: list(ast.literal_eval(s)))\n",
    "\n",
    "recipes.head()"
   ]
  },
  {
   "cell_type": "code",
   "execution_count": 94,
   "metadata": {},
   "outputs": [
    {
     "name": "stdout",
     "output_type": "stream",
     "text": [
      "<class 'pandas.core.frame.DataFrame'>\n",
      "RangeIndex: 1617 entries, 0 to 1616\n",
      "Data columns (total 16 columns):\n",
      " #   Column            Non-Null Count  Dtype  \n",
      "---  ------            --------------  -----  \n",
      " 0   Name              1617 non-null   object \n",
      " 1   url               1617 non-null   object \n",
      " 2   Description       1429 non-null   object \n",
      " 3   Author            1611 non-null   object \n",
      " 4   Ingredients       1617 non-null   object \n",
      " 5   Method            1617 non-null   object \n",
      " 6   num_ingredients   1617 non-null   int64  \n",
      " 7   num_instructions  1617 non-null   int64  \n",
      " 8   kcal              1543 non-null   float64\n",
      " 9   fat(g)            1441 non-null   float64\n",
      " 10  saturates(g)      1383 non-null   float64\n",
      " 11  carbs(g)          1526 non-null   float64\n",
      " 12  sugars(g)         1431 non-null   float64\n",
      " 13  fibre(g)          1219 non-null   float64\n",
      " 14  protein(g)        1456 non-null   float64\n",
      " 15  salt(g)           1440 non-null   float64\n",
      "dtypes: float64(8), int64(2), object(6)\n",
      "memory usage: 202.2+ KB\n"
     ]
    }
   ],
   "source": [
    "recipes.info()"
   ]
  },
  {
   "attachments": {},
   "cell_type": "markdown",
   "metadata": {},
   "source": [
    "So this is what we have now. Data is becoming reach of information including nutrients info for each recipe. Further meaningful analysis can be done. Some recipes however have missing info and the values have been set to **NaN**"
   ]
  },
  {
   "cell_type": "code",
   "execution_count": 95,
   "metadata": {},
   "outputs": [
    {
     "name": "stdout",
     "output_type": "stream",
     "text": [
      "Name                  0\n",
      "url                   0\n",
      "Description         188\n",
      "Author                6\n",
      "Ingredients           0\n",
      "Method                0\n",
      "num_ingredients       0\n",
      "num_instructions      0\n",
      "kcal                 74\n",
      "fat(g)              176\n",
      "saturates(g)        234\n",
      "carbs(g)             91\n",
      "sugars(g)           186\n",
      "fibre(g)            398\n",
      "protein(g)          161\n",
      "salt(g)             177\n",
      "dtype: int64\n"
     ]
    }
   ],
   "source": [
    "# Find how many NaN we have in each column\n",
    "print(recipes.isna().sum())"
   ]
  },
  {
   "cell_type": "code",
   "execution_count": 96,
   "metadata": {},
   "outputs": [
    {
     "name": "stdout",
     "output_type": "stream",
     "text": [
      "(927, 16)\n",
      "Name                0\n",
      "url                 0\n",
      "Description         0\n",
      "Author              0\n",
      "Ingredients         0\n",
      "Method              0\n",
      "num_ingredients     0\n",
      "num_instructions    0\n",
      "kcal                0\n",
      "fat(g)              0\n",
      "saturates(g)        0\n",
      "carbs(g)            0\n",
      "sugars(g)           0\n",
      "fibre(g)            0\n",
      "protein(g)          0\n",
      "salt(g)             0\n",
      "dtype: int64\n"
     ]
    }
   ],
   "source": [
    "# Let's drop rows where at least one element is missing.\n",
    "recipes = recipes.dropna()\n",
    "print(recipes.shape)\n",
    "\n",
    "# Check if we're still having NaN values\n",
    "print(recipes.isna().sum())\n",
    "\n"
   ]
  },
  {
   "attachments": {},
   "cell_type": "markdown",
   "metadata": {},
   "source": [
    "Meal with most calories and least calories?"
   ]
  },
  {
   "cell_type": "code",
   "execution_count": 97,
   "metadata": {},
   "outputs": [
    {
     "data": {
      "text/html": [
       "<div>\n",
       "<style scoped>\n",
       "    .dataframe tbody tr th:only-of-type {\n",
       "        vertical-align: middle;\n",
       "    }\n",
       "\n",
       "    .dataframe tbody tr th {\n",
       "        vertical-align: top;\n",
       "    }\n",
       "\n",
       "    .dataframe thead th {\n",
       "        text-align: right;\n",
       "    }\n",
       "</style>\n",
       "<table border=\"1\" class=\"dataframe\">\n",
       "  <thead>\n",
       "    <tr style=\"text-align: right;\">\n",
       "      <th></th>\n",
       "      <th>Name</th>\n",
       "      <th>kcal</th>\n",
       "      <th>fat(g)</th>\n",
       "      <th>saturates(g)</th>\n",
       "      <th>carbs(g)</th>\n",
       "      <th>sugars(g)</th>\n",
       "      <th>fibre(g)</th>\n",
       "      <th>protein(g)</th>\n",
       "      <th>salt(g)</th>\n",
       "    </tr>\n",
       "  </thead>\n",
       "  <tbody>\n",
       "    <tr>\n",
       "      <th>1463</th>\n",
       "      <td>Braised ox cheek Wellingtons with peppercorn g...</td>\n",
       "      <td>1446.0</td>\n",
       "      <td>94.0</td>\n",
       "      <td>45.0</td>\n",
       "      <td>90.0</td>\n",
       "      <td>5.0</td>\n",
       "      <td>2.0</td>\n",
       "      <td>58.0</td>\n",
       "      <td>4.9</td>\n",
       "    </tr>\n",
       "  </tbody>\n",
       "</table>\n",
       "</div>"
      ],
      "text/plain": [
       "                                                   Name    kcal  fat(g)  \\\n",
       "1463  Braised ox cheek Wellingtons with peppercorn g...  1446.0    94.0   \n",
       "\n",
       "      saturates(g)  carbs(g)  sugars(g)  fibre(g)  protein(g)  salt(g)  \n",
       "1463          45.0      90.0        5.0       2.0        58.0      4.9  "
      ]
     },
     "execution_count": 97,
     "metadata": {},
     "output_type": "execute_result"
    }
   ],
   "source": [
    "# Most calories\n",
    "recipes[recipes['kcal'] == recipes['kcal'].max()][['Name', 'kcal', 'fat(g)', 'saturates(g)', 'carbs(g)', 'sugars(g)', 'fibre(g)', 'protein(g)', 'salt(g)']]"
   ]
  },
  {
   "attachments": {},
   "cell_type": "markdown",
   "metadata": {},
   "source": [
    "Meal with least calories?"
   ]
  },
  {
   "cell_type": "code",
   "execution_count": 98,
   "metadata": {},
   "outputs": [
    {
     "data": {
      "text/html": [
       "<div>\n",
       "<style scoped>\n",
       "    .dataframe tbody tr th:only-of-type {\n",
       "        vertical-align: middle;\n",
       "    }\n",
       "\n",
       "    .dataframe tbody tr th {\n",
       "        vertical-align: top;\n",
       "    }\n",
       "\n",
       "    .dataframe thead th {\n",
       "        text-align: right;\n",
       "    }\n",
       "</style>\n",
       "<table border=\"1\" class=\"dataframe\">\n",
       "  <thead>\n",
       "    <tr style=\"text-align: right;\">\n",
       "      <th></th>\n",
       "      <th>Name</th>\n",
       "      <th>kcal</th>\n",
       "      <th>fat(g)</th>\n",
       "      <th>saturates(g)</th>\n",
       "      <th>carbs(g)</th>\n",
       "      <th>sugars(g)</th>\n",
       "      <th>fibre(g)</th>\n",
       "      <th>protein(g)</th>\n",
       "      <th>salt(g)</th>\n",
       "    </tr>\n",
       "  </thead>\n",
       "  <tbody>\n",
       "    <tr>\n",
       "      <th>287</th>\n",
       "      <td>Chorizo with celeriac remoulade</td>\n",
       "      <td>37.0</td>\n",
       "      <td>3.0</td>\n",
       "      <td>1.0</td>\n",
       "      <td>1.0</td>\n",
       "      <td>1.0</td>\n",
       "      <td>1.0</td>\n",
       "      <td>2.0</td>\n",
       "      <td>0.2</td>\n",
       "    </tr>\n",
       "  </tbody>\n",
       "</table>\n",
       "</div>"
      ],
      "text/plain": [
       "                                Name  kcal  fat(g)  saturates(g)  carbs(g)  \\\n",
       "287  Chorizo with celeriac remoulade  37.0     3.0           1.0       1.0   \n",
       "\n",
       "     sugars(g)  fibre(g)  protein(g)  salt(g)  \n",
       "287        1.0       1.0         2.0      0.2  "
      ]
     },
     "execution_count": 98,
     "metadata": {},
     "output_type": "execute_result"
    }
   ],
   "source": [
    "# Least calories\n",
    "recipes[recipes['kcal'] == recipes['kcal'].min()][['Name', 'kcal', 'fat(g)', 'saturates(g)', 'carbs(g)', 'sugars(g)', 'fibre(g)', 'protein(g)', 'salt(g)']]"
   ]
  },
  {
   "attachments": {},
   "cell_type": "markdown",
   "metadata": {},
   "source": [
    "Hmmm! I am suprised a meal with Chorizo ,which I know very well, must have a lot of fat in it. But looking at the web page concerning the meal, the nutrient quantities are per **canapé**. This will certainly cause many problems with any analysis!! <br>\n",
    "I think I should stop now and think carefully about this issue. Possibly some normalisation can solve this problem. Need to investigate <br>\n",
    "\n",
    "So this is it for now. I may create another notebook or keep adding more stuff here exploring things, analysing relationships like regression, testing inferences about data, possibly clustering now that we have more numbers in data. The new csv file is available in the source forlder. One is plain csv **recipes.csv** and the other is in zipped format **recipes.zip**. I also kept the original Jason files."
   ]
  }
 ],
 "metadata": {
  "kernelspec": {
   "display_name": "stats_science",
   "language": "python",
   "name": "python3"
  },
  "language_info": {
   "codemirror_mode": {
    "name": "ipython",
    "version": 3
   },
   "file_extension": ".py",
   "mimetype": "text/x-python",
   "name": "python",
   "nbconvert_exporter": "python",
   "pygments_lexer": "ipython3",
   "version": "3.9.7"
  },
  "orig_nbformat": 4,
  "vscode": {
   "interpreter": {
    "hash": "5016f7479e5c3faa24acd14315dac4e7f6a92f10abcf6a1e9ad0c18d77b1eaac"
   }
  }
 },
 "nbformat": 4,
 "nbformat_minor": 2
}
